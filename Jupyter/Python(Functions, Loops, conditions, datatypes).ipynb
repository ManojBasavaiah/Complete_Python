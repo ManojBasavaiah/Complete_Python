{
 "cells": [
  {
   "cell_type": "code",
   "execution_count": 1,
   "id": "bd4391f2",
   "metadata": {},
   "outputs": [],
   "source": [
    "#To find def or info of any function\n",
    "input?\n",
    "# pow?\n"
   ]
  },
  {
   "cell_type": "code",
   "execution_count": 2,
   "id": "08268150",
   "metadata": {},
   "outputs": [
    {
     "name": "stdout",
     "output_type": "stream",
     "text": [
      "My is is Mahadeshwara\n"
     ]
    }
   ],
   "source": [
    "print(\"My is is Mahadeshwara\")"
   ]
  },
  {
   "cell_type": "code",
   "execution_count": 3,
   "id": "0d493b2c",
   "metadata": {},
   "outputs": [
    {
     "name": "stdout",
     "output_type": "stream",
     "text": [
      "Variable   Type     Data/Info\n",
      "-----------------------------\n",
      "x          float    5.68\n",
      "<class 'float'>\n"
     ]
    }
   ],
   "source": [
    "x=5\n",
    "x=5.68\n",
    "%whos \n",
    "print(type(x))\n",
    "# %whos= prints variable, type, and Data/info (status of memory)"
   ]
  },
  {
   "cell_type": "code",
   "execution_count": 4,
   "id": "97b769cf",
   "metadata": {},
   "outputs": [
    {
     "name": "stdout",
     "output_type": "stream",
     "text": [
      "Variable   Type       Data/Info\n",
      "-------------------------------\n",
      "a          int        3\n",
      "b          float      5.576\n",
      "c          int        46\n",
      "d          str        Hello\n",
      "e          complex    (2+4j)\n",
      "x          float      5.68\n"
     ]
    }
   ],
   "source": [
    "a, b, c, d, e=3, 5.576,46, 'Hello', 2+4j\n",
    "%whos"
   ]
  },
  {
   "cell_type": "code",
   "execution_count": 5,
   "id": "cdd3083b",
   "metadata": {},
   "outputs": [
    {
     "name": "stdout",
     "output_type": "stream",
     "text": [
      "Variable   Type       Data/Info\n",
      "-------------------------------\n",
      "a          int        3\n",
      "b          float      5.576\n",
      "c          int        46\n",
      "d          str        Hello\n",
      "e          complex    (2+4j)\n"
     ]
    }
   ],
   "source": [
    "del x\n",
    "%whos"
   ]
  },
  {
   "cell_type": "code",
   "execution_count": 6,
   "id": "86d03899",
   "metadata": {},
   "outputs": [
    {
     "name": "stdout",
     "output_type": "stream",
     "text": [
      "(5+4j)\n",
      "<class 'complex'>\n"
     ]
    }
   ],
   "source": [
    "sum=a+e\n",
    "print(sum)\n",
    "print(type(sum))"
   ]
  },
  {
   "cell_type": "code",
   "execution_count": 7,
   "id": "bda21357",
   "metadata": {},
   "outputs": [
    {
     "data": {
      "text/plain": [
       "'3Hello'"
      ]
     },
     "execution_count": 7,
     "metadata": {},
     "output_type": "execute_result"
    }
   ],
   "source": [
    "add=str(a)+d #typecasting a from int to string\n",
    "add"
   ]
  },
  {
   "cell_type": "code",
   "execution_count": 8,
   "id": "2412d4fd",
   "metadata": {},
   "outputs": [
    {
     "data": {
      "text/plain": [
       "6"
      ]
     },
     "execution_count": 8,
     "metadata": {},
     "output_type": "execute_result"
    }
   ],
   "source": [
    "# 3x=4\n",
    "# @y=65\n",
    "#both are invalid\n",
    "_e=6\n",
    "_e #this is valuable to start with underscore."
   ]
  },
  {
   "cell_type": "code",
   "execution_count": 9,
   "id": "f2c268a6",
   "metadata": {},
   "outputs": [
    {
     "name": "stdout",
     "output_type": "stream",
     "text": [
      "<class 'bool'>\n",
      "True\n",
      "False\n"
     ]
    }
   ],
   "source": [
    "c=a<=b and (a==b or a!=b)\n",
    "print(type(c))\n",
    "print(c)\n",
    "print(not(c))"
   ]
  },
  {
   "cell_type": "code",
   "execution_count": 10,
   "id": "826a3040",
   "metadata": {},
   "outputs": [
    {
     "name": "stdout",
     "output_type": "stream",
     "text": [
      "False\n"
     ]
    }
   ],
   "source": [
    "print((not(2!=3)and True)or(False and True))"
   ]
  },
  {
   "cell_type": "code",
   "execution_count": 11,
   "id": "7053cfc9",
   "metadata": {},
   "outputs": [
    {
     "name": "stdout",
     "output_type": "stream",
     "text": [
      "5.645\n",
      "1\n"
     ]
    },
    {
     "data": {
      "text/plain": [
       "((3, 7), tuple)"
      ]
     },
     "execution_count": 11,
     "metadata": {},
     "output_type": "execute_result"
    }
   ],
   "source": [
    "print(round(5.6453, 3))\n",
    "print(5//4)\n",
    "g=divmod(34, 9) #returns quotient & remainder\n",
    "g, type(g)"
   ]
  },
  {
   "cell_type": "code",
   "execution_count": 12,
   "id": "0752397e",
   "metadata": {},
   "outputs": [
    {
     "name": "stdout",
     "output_type": "stream",
     "text": [
      "False\n",
      "True\n",
      "True\n"
     ]
    }
   ],
   "source": [
    "# check if value has any datatype in the instance\n",
    "val=3.56\n",
    "val2=2+4j\n",
    "print(isinstance(val,(int)))\n",
    "print(isinstance(val,(int,float,complex)))\n",
    "print(isinstance(val2,(int, complex)))"
   ]
  },
  {
   "cell_type": "code",
   "execution_count": 13,
   "id": "833e58c0",
   "metadata": {},
   "outputs": [
    {
     "data": {
      "text/plain": [
       "(125, 125)"
      ]
     },
     "execution_count": 13,
     "metadata": {},
     "output_type": "execute_result"
    }
   ],
   "source": [
    "pow(5, 3), 5**3\n"
   ]
  },
  {
   "cell_type": "code",
   "execution_count": 14,
   "id": "3fca5815",
   "metadata": {},
   "outputs": [
    {
     "data": {
      "text/plain": [
       "1"
      ]
     },
     "execution_count": 14,
     "metadata": {},
     "output_type": "execute_result"
    }
   ],
   "source": [
    "pow(2, 2, 3)#(2**2)%3 =4%3=1"
   ]
  },
  {
   "cell_type": "code",
   "execution_count": 15,
   "id": "89188207",
   "metadata": {},
   "outputs": [
    {
     "name": "stdout",
     "output_type": "stream",
     "text": [
      "Enter a value: man\n",
      "3234\n",
      "25.5\n",
      "25\n"
     ]
    },
    {
     "data": {
      "text/plain": [
       "(str, int, str, complex)"
      ]
     },
     "execution_count": 15,
     "metadata": {},
     "output_type": "execute_result"
    }
   ],
   "source": [
    "given=input(\"Enter a value: \")\n",
    "given1=int(input())\n",
    "given2=input() #always takes string\n",
    "given3=complex(input())\n",
    "type(given), type(given1), type(given2), type(given3)\n"
   ]
  },
  {
   "cell_type": "code",
   "execution_count": 16,
   "id": "535272c5",
   "metadata": {},
   "outputs": [
    {
     "name": "stdout",
     "output_type": "stream",
     "text": [
      "55\n",
      "55.\n",
      "a<b\n",
      "a is smaller\n",
      "a==b\n"
     ]
    }
   ],
   "source": [
    "a=int(input())\n",
    "b=float(input())\n",
    "# Normal if condition\n",
    "if(a<b) or (a<=b):\n",
    "    print(\"a<b\")\n",
    "    print(\"a is smaller\")\n",
    "elif(b<a) or (b<=a):\n",
    "    print(\"b<a\")\n",
    "    print(\" b is smaller\")\n",
    "else:\n",
    "    print(\"a==b\")\n",
    "#Shorthand if condition\n",
    "print(\"a<b\") if a<b else print(\"b<a\") if b<a else print(\"a==b\")"
   ]
  },
  {
   "cell_type": "markdown",
   "id": "538f9992",
   "metadata": {},
   "source": [
    "Conditions and def function"
   ]
  },
  {
   "cell_type": "code",
   "execution_count": 17,
   "id": "fd798e9e",
   "metadata": {},
   "outputs": [
    {
     "name": "stdout",
     "output_type": "stream",
     "text": [
      "5\n",
      "1\n",
      "2\n",
      "3\n",
      "4\n",
      "5\n"
     ]
    }
   ],
   "source": [
    "n=int(input())\n",
    "i=1\n",
    "while i<=n:\n",
    "    print(i)\n",
    "    i+=1"
   ]
  },
  {
   "cell_type": "code",
   "execution_count": 18,
   "id": "fb9c0fa0",
   "metadata": {},
   "outputs": [
    {
     "name": "stdout",
     "output_type": "stream",
     "text": [
      "5\n",
      "2\n",
      "4\n",
      "End\n"
     ]
    }
   ],
   "source": [
    "n=int(input())\n",
    "i=1\n",
    "while i<=n:\n",
    "    if i%2==0:\n",
    "        print(i)\n",
    "    else:\n",
    "        pass #just moves on to next step\n",
    "    i+=1 #(i=i+1)\n",
    "print(\"End\")"
   ]
  },
  {
   "cell_type": "code",
   "execution_count": 19,
   "id": "2e9566f1",
   "metadata": {
    "scrolled": true
   },
   "outputs": [
    {
     "name": "stdout",
     "output_type": "stream",
     "text": [
      "5\n",
      "inside else\n",
      "inside else\n",
      "inside else\n",
      "inside else\n",
      "inside else\n",
      "inside else\n",
      "inside else\n",
      "inside else\n",
      "inside if\n",
      "End\n"
     ]
    }
   ],
   "source": [
    "n=int(input())\n",
    "i=1\n",
    "while True:\n",
    "    if i%9==0:\n",
    "        print(\"inside if\")\n",
    "        break\n",
    "#         As soon as the loop enters this conditionand executes it completely stops\n",
    "    else:\n",
    "        print(\"inside else\")\n",
    "        i=i+1\n",
    "print(\"End\")"
   ]
  },
  {
   "cell_type": "code",
   "execution_count": 20,
   "id": "0a426eeb",
   "metadata": {},
   "outputs": [
    {
     "name": "stdout",
     "output_type": "stream",
     "text": [
      "inside if\n",
      "end\n"
     ]
    }
   ],
   "source": [
    "n=10\n",
    "i=1\n",
    "while True:#loops until if condition is true and breaks at break  \n",
    "    if i%9!=0:\n",
    "        print('inside if')\n",
    "        i+=1\n",
    "    else:\n",
    "        print('inside else')\n",
    "    break\n",
    "    \n",
    "print('end')\n",
    "        "
   ]
  },
  {
   "cell_type": "code",
   "execution_count": 21,
   "id": "c01f03a2",
   "metadata": {},
   "outputs": [
    {
     "name": "stdout",
     "output_type": "stream",
     "text": [
      "inside if\n",
      "inside if\n",
      "inside if\n",
      "inside if\n",
      "inside if\n",
      "inside if\n",
      "inside if\n",
      "inside if\n",
      "inside else\n",
      "end\n"
     ]
    }
   ],
   "source": [
    "n=10\n",
    "i=1\n",
    "while True:#loops until if condition is true and breaks at break  \n",
    "    if i%9!=0:\n",
    "        print('inside if')\n",
    "        i+=1\n",
    "        continue\n",
    "        #execute all contions in if until it is fails\n",
    "    else:\n",
    "        print('inside else')\n",
    "    break\n",
    "    \n",
    "print('end')\n",
    "        "
   ]
  },
  {
   "cell_type": "code",
   "execution_count": 22,
   "id": "6236e570",
   "metadata": {},
   "outputs": [
    {
     "name": "stdout",
     "output_type": "stream",
     "text": [
      "5\n",
      "<class 'list'>\n",
      "1\n",
      "2\n",
      "3\n",
      "4\n",
      "5\n",
      "[0, 1, 4, 9, 16]\n"
     ]
    }
   ],
   "source": [
    "n=int(input())\n",
    "L=[]\n",
    "print(type(L))\n",
    "for i in range (n):\n",
    "    print(i+1)\n",
    "    L.append(i**2)\n",
    "print(L)"
   ]
  },
  {
   "cell_type": "code",
   "execution_count": 24,
   "id": "81e7fc97",
   "metadata": {},
   "outputs": [
    {
     "name": "stdout",
     "output_type": "stream",
     "text": [
      "* \n",
      "* * \n",
      "* * * \n",
      "* * * * \n",
      "* * * * * \n",
      "* * * * \n",
      "* * * \n",
      "* * \n",
      "* \n",
      "\n"
     ]
    }
   ],
   "source": [
    "n=5\n",
    "for i in range (0,n):\n",
    "    for j in range (0,i+1):\n",
    "        print('*', end=' ')\n",
    "    print('')\n",
    "for i in range (0, n):\n",
    "    for j in range (1, n-i):\n",
    "        print('*', end=' ')\n",
    "    print('')"
   ]
  },
  {
   "cell_type": "code",
   "execution_count": 25,
   "id": "bc3a21ba",
   "metadata": {
    "scrolled": true
   },
   "outputs": [
    {
     "name": "stdout",
     "output_type": "stream",
     "text": [
      "        * \n",
      "       * * \n",
      "      * * * \n",
      "     * * * * \n",
      "    * * * * * \n",
      "   * * * * * * \n",
      "    * * * * * \n",
      "     * * * * \n",
      "      * * * \n",
      "       * * \n",
      "        * \n"
     ]
    }
   ],
   "source": [
    "rows = 5\n",
    "k = 2 * rows - 2\n",
    "for i in range(0, rows):\n",
    "    for j in range(0, k):\n",
    "        print(end=\" \")\n",
    "    k = k - 1\n",
    "    for j in range(0, i + 1):\n",
    "        print(\"* \", end=\"\")\n",
    "    print(\"\")\n",
    "    \n",
    "k = rows - 2\n",
    "\n",
    "for i in range(rows, -1, -1):\n",
    "    for j in range(k, 0, -1):\n",
    "        print(end=\" \")\n",
    "    k = k + 1\n",
    "    for j in range(0, i + 1):\n",
    "        print(\"* \", end=\"\")\n",
    "    print(\"\")"
   ]
  },
  {
   "cell_type": "code",
   "execution_count": 26,
   "id": "d90cf3ab",
   "metadata": {},
   "outputs": [
    {
     "name": "stdout",
     "output_type": "stream",
     "text": [
      "apple\n",
      "4.9\n",
      "cherry\n",
      "Loop terminates the success\n",
      "Out side Loop\n",
      "Loop terminates the success\n",
      "Out side Loop\n"
     ]
    }
   ],
   "source": [
    "S={'apple',4.9, 'cherry'}\n",
    "Y={}\n",
    "for x in S:\n",
    "    print(x)\n",
    "else:#this else is for for loop\n",
    "    print('Loop terminates the success')\n",
    "print('Out side Loop')\n",
    "for x in Y:#nothing in Y\n",
    "    print(x)\n",
    "else:#this else is for for loop\n",
    "    print('Loop terminates the success')\n",
    "print('Out side Loop')"
   ]
  },
  {
   "cell_type": "code",
   "execution_count": 27,
   "id": "5c0ec2bf",
   "metadata": {},
   "outputs": [
    {
     "name": "stdout",
     "output_type": "stream",
     "text": [
      "{'apple', 3, 4.9, 'cherry'}\n",
      "apple\n",
      "3\n",
      "Out side Loop\n"
     ]
    }
   ],
   "source": [
    "S={'apple', 4.9, 'cherry'}\n",
    "S.add(3)\n",
    "print(S)\n",
    "i=1\n",
    "for x in S:\n",
    "    print(x)\n",
    "    i=i+1\n",
    "    if i==3:\n",
    "        break\n",
    "    else:\n",
    "        pass\n",
    "else:#this else is for for loop\n",
    "    print('Loop terminates the success')\n",
    "print('Out side Loop')"
   ]
  },
  {
   "cell_type": "code",
   "execution_count": 28,
   "id": "51a84535",
   "metadata": {},
   "outputs": [
    {
     "name": "stdout",
     "output_type": "stream",
     "text": [
      "<class 'complex'>\n",
      "-243.56\n",
      "a 32\n",
      "b -243.56\n",
      "c manu\n",
      "d (2+3j)\n"
     ]
    }
   ],
   "source": [
    "D={'a':32, 'b':-243.56, 'c':'manu', 'd':2+3j}\n",
    "print(type(D['d']))\n",
    "print(D['b'])\n",
    "for x in D:\n",
    "    print(x, D[x])"
   ]
  },
  {
   "cell_type": "code",
   "execution_count": 29,
   "id": "e50137be",
   "metadata": {},
   "outputs": [
    {
     "name": "stdout",
     "output_type": "stream",
     "text": [
      "[-5, 1, 2, 2, 3, 4, 7, 9]\n"
     ]
    }
   ],
   "source": [
    "\"\"\"Given a list of numbers i.e. [1,2,4, -5,7,9,3,2], make another list\n",
    "that contains all the items in sorted order from min to max. i.e. your\n",
    "result will be another list like [-5,1,2,2,3,7,9]\n",
    "\"\"\"#this is a document string\n",
    "#use ctrl+] for multiple line indentation spacing\n",
    "L=[1,2,4, -5,7,9,3,2]\n",
    "for i in range(len(L)):\n",
    "    min=L[i]\n",
    "    index=i\n",
    "    count=i\n",
    "    for j in range(i, len(L)):\n",
    "        if L[j]<min:\n",
    "            min=L[j]\n",
    "            index=count\n",
    "        count=count+1\n",
    "    temp=L[i]\n",
    "    L[i]=min\n",
    "    L[index]=temp\n",
    "print(L)\n",
    "        \n"
   ]
  },
  {
   "cell_type": "code",
   "execution_count": 30,
   "id": "ca0e23fd",
   "metadata": {},
   "outputs": [
    {
     "name": "stdout",
     "output_type": "stream",
     "text": [
      "[-5, 1, 2, 2, 3, 4, 7, 9]\n"
     ]
    }
   ],
   "source": [
    "#other way\n",
    "L = [1, 2, 4, -5, 7, 9, 3, 2]\n",
    "\n",
    "for i in range(len(L)):\n",
    "    min_index = i\n",
    "#     print(min_index)\n",
    "    for j in range(i + 1, len(L)):\n",
    "        if L[j] < L[min_index]:\n",
    "            min_index = j\n",
    "\n",
    "    L[i], L[min_index] = L[min_index], L[i]\n",
    "\n",
    "print(L)\n"
   ]
  },
  {
   "cell_type": "code",
   "execution_count": 31,
   "id": "6c30fb27",
   "metadata": {},
   "outputs": [
    {
     "name": "stdout",
     "output_type": "stream",
     "text": [
      "hellow\n",
      "Help on function printfunc in module __main__:\n",
      "\n",
      "printfunc()\n",
      "    This function is doing nothing except printing a message.\n",
      "    That message is \"hellow\"\n",
      "\n"
     ]
    }
   ],
   "source": [
    "def printfunc():\n",
    "    \"\"\" This function is doing nothing except printing a message.\n",
    "That message is \"hellow\"\n",
    "\"\"\"\n",
    "print('hellow')\n",
    "printfunc??\n",
    "printfunc?\n",
    "help(printfunc)"
   ]
  },
  {
   "cell_type": "code",
   "execution_count": 32,
   "id": "7b68d34b",
   "metadata": {},
   "outputs": [
    {
     "name": "stdout",
     "output_type": "stream",
     "text": [
      "Help on built-in function isinstance in module builtins:\n",
      "\n",
      "isinstance(obj, class_or_tuple, /)\n",
      "    Return whether an object is an instance of a class or of a subclass thereof.\n",
      "    \n",
      "    A tuple, as in ``isinstance(x, (A, B, ...))``, may be given as the target to\n",
      "    check against. This is equivalent to ``isinstance(x, A) or isinstance(x, B)\n",
      "    or ...`` etc.\n",
      "\n"
     ]
    }
   ],
   "source": [
    "help(isinstance)"
   ]
  },
  {
   "cell_type": "code",
   "execution_count": 33,
   "id": "6df15f36",
   "metadata": {},
   "outputs": [],
   "source": [
    "def printMsg(msg):\n",
    "    \"\"\" The function prints the message given if it is a int or float or\n",
    "    else prints msg type and reverse it if is string\"\"\"\n",
    "    if isinstance(msg, (int,float)) and (msg%5==0):\n",
    "        print(msg)\n",
    "    elif isinstance(msg, str):\n",
    "        rev_str=sorted(msg, reverse=True)\n",
    "        rev_str1=''.join(sorted(msg, reverse=False))\n",
    "        print(rev_str, rev_str1)\n",
    "    else:\n",
    "        print('Is not true with if contion and type is: ', type(msg))"
   ]
  },
  {
   "cell_type": "code",
   "execution_count": 34,
   "id": "3f0e54a7",
   "metadata": {},
   "outputs": [
    {
     "name": "stdout",
     "output_type": "stream",
     "text": [
      "['y', 'v', 'v', 'u', 'r', 'l', 'k', 'j', 'j', 'j', 'h', 'g', 'g', 'f', 'e', 'e', 'e', 'c', 'b'] bceeefgghjjjklruvvy\n",
      "Is not true with if contion and type is:  <class 'float'>\n",
      "135\n",
      "Help on built-in function sorted in module builtins:\n",
      "\n",
      "sorted(iterable, /, *, key=None, reverse=False)\n",
      "    Return a new list containing all items from the iterable in ascending order.\n",
      "    \n",
      "    A custom key function can be supplied to customize the sort order, and the\n",
      "    reverse flag can be set to request the result in descending order.\n",
      "\n"
     ]
    }
   ],
   "source": [
    "printMsg('jkefgucvyjerhbvjegl')\n",
    "printMsg(25.5)\n",
    "printMsg(135)\n",
    "\n",
    "\n",
    "help(sorted)"
   ]
  },
  {
   "cell_type": "code",
   "execution_count": 35,
   "id": "f8244cd3",
   "metadata": {},
   "outputs": [],
   "source": [
    "# ''.join(...): The join() method is then used to concatenate the characters from the sorted list back into a string. \n",
    "# The empty string '' is specified as the separator."
   ]
  },
  {
   "cell_type": "code",
   "execution_count": 36,
   "id": "e436cf2a",
   "metadata": {},
   "outputs": [],
   "source": [
    "def checkArgs(a, b, c):\n",
    "    abs(a)\n",
    "    if isinstance(a,(int,float)) and isinstance(b,(int, float)) and isinstance(c, (int, float)):\n",
    "        print(a+b*c)\n",
    "    else:\n",
    "        print('It is not desired datatype: ',type(a), type(b),type(c))"
   ]
  },
  {
   "cell_type": "code",
   "execution_count": 37,
   "id": "4b10d266",
   "metadata": {},
   "outputs": [
    {
     "name": "stdout",
     "output_type": "stream",
     "text": [
      "It is not desired datatype:  <class 'int'> <class 'int'> <class 'str'>\n",
      "32.0\n"
     ]
    }
   ],
   "source": [
    "checkArgs(2,2, 'man')\n",
    "checkArgs(b=10,a=2,c=3.0)"
   ]
  },
  {
   "cell_type": "code",
   "execution_count": 38,
   "id": "98a6e0bd",
   "metadata": {},
   "outputs": [
    {
     "name": "stdout",
     "output_type": "stream",
     "text": [
      "(5+4j)\n"
     ]
    }
   ],
   "source": [
    "def mySum(a, b):\n",
    "    sum=a+b\n",
    "mySum(2, 3)\n",
    "print(sum)"
   ]
  },
  {
   "cell_type": "code",
   "execution_count": 39,
   "id": "f62f9b53",
   "metadata": {},
   "outputs": [
    {
     "name": "stdout",
     "output_type": "stream",
     "text": [
      "(5+4j)\n"
     ]
    }
   ],
   "source": [
    "def mySum(a, b):\n",
    "    sum=a+b\n",
    "    return sum\n",
    "mySum(2,4)\n",
    "print(sum)"
   ]
  },
  {
   "cell_type": "code",
   "execution_count": 40,
   "id": "cea943a1",
   "metadata": {},
   "outputs": [
    {
     "name": "stdout",
     "output_type": "stream",
     "text": [
      "6\n"
     ]
    }
   ],
   "source": [
    "def mySum(a, b):\n",
    "    sum=a+b\n",
    "    return sum\n",
    "add=mySum(2,4)\n",
    "print(add)"
   ]
  },
  {
   "cell_type": "code",
   "execution_count": 41,
   "id": "4fa7e118",
   "metadata": {},
   "outputs": [
    {
     "name": "stdout",
     "output_type": "stream",
     "text": [
      "None\n",
      "<class 'NoneType'>\n"
     ]
    }
   ],
   "source": [
    "variableOutsideFunction=3\n",
    "def g():\n",
    "    variableOutsideFunction=5\n",
    "#     print(variableOutsideFunction)\n",
    "print(g())\n",
    "print(type(g()))"
   ]
  },
  {
   "cell_type": "code",
   "execution_count": 42,
   "id": "4ae2dd4e",
   "metadata": {},
   "outputs": [
    {
     "name": "stdout",
     "output_type": "stream",
     "text": [
      "3\n"
     ]
    }
   ],
   "source": [
    "print(variableOutsideFunction)"
   ]
  },
  {
   "cell_type": "code",
   "execution_count": 43,
   "id": "5e60e6a6",
   "metadata": {},
   "outputs": [
    {
     "name": "stdout",
     "output_type": "stream",
     "text": [
      "A\n",
      "something\n",
      "None\n"
     ]
    }
   ],
   "source": [
    "def h():\n",
    "    print('A')\n",
    "    a=3\n",
    "    b=4\n",
    "    c=a+b\n",
    "    print('something')\n",
    "    return\n",
    "# return acts like break any think exvuted after this insisde function is skipped\n",
    "    print('B')\n",
    "    print('C')\n",
    "print(h())"
   ]
  },
  {
   "cell_type": "code",
   "execution_count": 44,
   "id": "dc23d2fe",
   "metadata": {
    "scrolled": true
   },
   "outputs": [
    {
     "name": "stdout",
     "output_type": "stream",
     "text": [
      "A\n",
      "something\n",
      "7\n",
      "A\n",
      "something\n",
      "<class 'int'>\n"
     ]
    }
   ],
   "source": [
    "def h():\n",
    "    print('A')\n",
    "    a=3\n",
    "    b=4\n",
    "    c=a+b\n",
    "    print('something')\n",
    "    return c\n",
    "print(h())\n",
    "print(type(h()))"
   ]
  },
  {
   "cell_type": "code",
   "execution_count": 45,
   "id": "cbd21dd2",
   "metadata": {},
   "outputs": [
    {
     "name": "stdout",
     "output_type": "stream",
     "text": [
      "[3, 4, 7]\n"
     ]
    }
   ],
   "source": [
    "def r():\n",
    "    a=3\n",
    "    b=4\n",
    "    c=a+b\n",
    "    return a, b, c\n",
    "x,y,z=r()\n",
    "print([x,y,z])"
   ]
  },
  {
   "cell_type": "code",
   "execution_count": 46,
   "id": "91b33e7d",
   "metadata": {},
   "outputs": [
    {
     "name": "stdout",
     "output_type": "stream",
     "text": [
      "139.64\n"
     ]
    }
   ],
   "source": [
    "'''Functions (variable number of input\n",
    "arguments)'''\n",
    "def multiplAddVariables(*args):\n",
    "    sum=0\n",
    "    for i in range(len(args)):\n",
    "        sum+=args[i]#sum=sum+args[i]\n",
    "    return sum\n",
    "print(multiplAddVariables(4,5,5,6,32,87.64))"
   ]
  },
  {
   "cell_type": "code",
   "execution_count": 47,
   "id": "917d5e8f",
   "metadata": {},
   "outputs": [
    {
     "name": "stdout",
     "output_type": "stream",
     "text": [
      "Variable Name is:  a And value is:  3\n",
      "Variable Name is:  b And value is:  (2+4j)\n",
      "Variable Name is:  c And value is:  7.54\n",
      "Variable Name is:  d And value is:  man\n"
     ]
    }
   ],
   "source": [
    "\"\"\"This is to have control over the arguments for further usage\"\"\"\n",
    "def printAllVariablesAndValues(**args):\n",
    "    for x in args:\n",
    "        print('Variable Name is: ',x, 'And value is: ', args[x])\n",
    "printAllVariablesAndValues(a=3, b=2+4j, c=7.54, d='man')"
   ]
  },
  {
   "cell_type": "code",
   "execution_count": 48,
   "id": "0e894c0b",
   "metadata": {},
   "outputs": [
    {
     "name": "stdout",
     "output_type": "stream",
     "text": [
      "4\n",
      "[-65.8, 2, 3]\n"
     ]
    }
   ],
   "source": [
    "'''Function(Default values)'''\n",
    "def gg(s=4):\n",
    "    print(s)\n",
    "gg()\n",
    "L=[1,2,3]\n",
    "L[0]=-65.8\n",
    "print(L)"
   ]
  },
  {
   "cell_type": "code",
   "execution_count": 49,
   "id": "19752259",
   "metadata": {},
   "outputs": [
    {
     "name": "stdout",
     "output_type": "stream",
     "text": [
      "1\n",
      "2\n",
      "3\n"
     ]
    }
   ],
   "source": [
    "def ff(L=[1,2,3]):\n",
    "    for i in L:\n",
    "        print(i)\n",
    "L=[12,76,14]\n",
    "ff()# L is default and will never change"
   ]
  },
  {
   "cell_type": "code",
   "execution_count": 50,
   "id": "668902c7",
   "metadata": {},
   "outputs": [],
   "source": [
    "import sys\n",
    "sys.path.append('/Python/Jupyter/Modules')"
   ]
  },
  {
   "cell_type": "code",
   "execution_count": 51,
   "id": "5996c606",
   "metadata": {},
   "outputs": [
    {
     "ename": "ModuleNotFoundError",
     "evalue": "No module named 'my_universal_functions'",
     "output_type": "error",
     "traceback": [
      "\u001b[1;31m---------------------------------------------------------------------------\u001b[0m",
      "\u001b[1;31mModuleNotFoundError\u001b[0m                       Traceback (most recent call last)",
      "Cell \u001b[1;32mIn[51], line 1\u001b[0m\n\u001b[1;32m----> 1\u001b[0m \u001b[38;5;28;01mimport\u001b[39;00m \u001b[38;5;21;01mmy_universal_functions\u001b[39;00m \u001b[38;5;28;01mas\u001b[39;00m \u001b[38;5;21;01mmyfs\u001b[39;00m\n\u001b[0;32m      2\u001b[0m get_ipython()\u001b[38;5;241m.\u001b[39mrun_line_magic(\u001b[38;5;124m'\u001b[39m\u001b[38;5;124mpinfo2\u001b[39m\u001b[38;5;124m'\u001b[39m, \u001b[38;5;124m'\u001b[39m\u001b[38;5;124mmyfs.addAllNumeric\u001b[39m\u001b[38;5;124m'\u001b[39m)\n",
      "\u001b[1;31mModuleNotFoundError\u001b[0m: No module named 'my_universal_functions'"
     ]
    }
   ],
   "source": [
    "import my_universal_functions as myfs\n",
    "myfs.addAllNumeric??"
   ]
  },
  {
   "cell_type": "code",
   "execution_count": 52,
   "id": "b3188f88",
   "metadata": {},
   "outputs": [
    {
     "ename": "NameError",
     "evalue": "name 'myfs' is not defined",
     "output_type": "error",
     "traceback": [
      "\u001b[1;31m---------------------------------------------------------------------------\u001b[0m",
      "\u001b[1;31mNameError\u001b[0m                                 Traceback (most recent call last)",
      "Cell \u001b[1;32mIn[52], line 1\u001b[0m\n\u001b[1;32m----> 1\u001b[0m c\u001b[38;5;241m=\u001b[39mmyfs\u001b[38;5;241m.\u001b[39maddAllNumeric(\u001b[38;5;241m2\u001b[39m,\u001b[38;5;241m3\u001b[39m,\u001b[38;5;241m5\u001b[39m,\u001b[38;5;241m76\u001b[39m)\n\u001b[0;32m      2\u001b[0m \u001b[38;5;28mprint\u001b[39m(c)\n\u001b[0;32m      3\u001b[0m \u001b[38;5;28mprint\u001b[39m(myfs\u001b[38;5;241m.\u001b[39mmyName)\n",
      "\u001b[1;31mNameError\u001b[0m: name 'myfs' is not defined"
     ]
    }
   ],
   "source": [
    "c=myfs.addAllNumeric(2,3,5,76)\n",
    "print(c)\n",
    "print(myfs.myName)"
   ]
  },
  {
   "cell_type": "code",
   "execution_count": 53,
   "id": "4c373aff",
   "metadata": {},
   "outputs": [
    {
     "ename": "ModuleNotFoundError",
     "evalue": "No module named 'my_universal_functions'",
     "output_type": "error",
     "traceback": [
      "\u001b[1;31m---------------------------------------------------------------------------\u001b[0m",
      "\u001b[1;31mModuleNotFoundError\u001b[0m                       Traceback (most recent call last)",
      "Cell \u001b[1;32mIn[53], line 1\u001b[0m\n\u001b[1;32m----> 1\u001b[0m \u001b[38;5;28;01mfrom\u001b[39;00m \u001b[38;5;21;01mmy_universal_functions\u001b[39;00m \u001b[38;5;28;01mimport\u001b[39;00m checkIfNotNumeric\n\u001b[0;32m      2\u001b[0m \u001b[38;5;28mprint\u001b[39m(checkIfNotNumeric())\n",
      "\u001b[1;31mModuleNotFoundError\u001b[0m: No module named 'my_universal_functions'"
     ]
    }
   ],
   "source": [
    "from my_universal_functions import checkIfNotNumeric\n",
    "print(checkIfNotNumeric())"
   ]
  },
  {
   "cell_type": "code",
   "execution_count": 54,
   "id": "0a7dda7a",
   "metadata": {},
   "outputs": [
    {
     "name": "stdout",
     "output_type": "stream",
     "text": [
      "-6 2\n"
     ]
    }
   ],
   "source": [
    "\"\"\"Given a list of numbers i.e. [1,2,4, -5,7,9,3,2], make another list\n",
    "that contains all the items in sorted order from min to max. i.e. your\n",
    "result will be another list like [-5,1,2,2,3,7,9]\n",
    "\"\"\"\n",
    "def findMin(L,startIndex):\n",
    "    min=L[startIndex]\n",
    "    index=startIndex\n",
    "    c=startIndex\n",
    "    for i in range(startIndex,len(L)):\n",
    "        x=L[i]\n",
    "        if x<min:\n",
    "            min=x\n",
    "            index=i\n",
    "        else:\n",
    "            pass\n",
    "    return min, index\n",
    "a,b=findMin([2,43,-6,7.3,600], 0)\n",
    "print(a,b)"
   ]
  },
  {
   "cell_type": "code",
   "execution_count": 55,
   "id": "50200146",
   "metadata": {},
   "outputs": [
    {
     "name": "stdout",
     "output_type": "stream",
     "text": [
      "[2, 43, 600, 7.3, -6]\n"
     ]
    }
   ],
   "source": [
    "def swapValues(L, index1, index2):\n",
    "    temp=L[index1]\n",
    "    L[index1]=L[index2]\n",
    "    L[index2]=temp\n",
    "    return L\n",
    "L=[2,43,-6,7.3,600]\n",
    "L=swapValues(L,2,4)\n",
    "print(L)"
   ]
  },
  {
   "cell_type": "code",
   "execution_count": 56,
   "id": "3fabbb39",
   "metadata": {},
   "outputs": [],
   "source": [
    "def checkIfNotNumeric2(L):\n",
    "    for x in L:\n",
    "        if not(isinstance(x,(int, float))):\n",
    "            return False\n",
    "    return True\n",
    "\n",
    "def sortedList(L):\n",
    "    if not(checkIfNotNumeric2(L)):\n",
    "        print('Error: List does not contain numeric values')\n",
    "    else:\n",
    "        c=0\n",
    "        for x in L:\n",
    "            min, index=findMin(L,c)\n",
    "            L=swapValues(L,c, index)\n",
    "            c+=1\n",
    "    return L"
   ]
  },
  {
   "cell_type": "code",
   "execution_count": 57,
   "id": "5b4f4e51",
   "metadata": {},
   "outputs": [
    {
     "name": "stdout",
     "output_type": "stream",
     "text": [
      "[-67, 1, 2, 3, 4.4]\n"
     ]
    }
   ],
   "source": [
    "L2=sortedList([2, 1, 3, 4.4, -67])\n",
    "print(L2)"
   ]
  },
  {
   "cell_type": "code",
   "execution_count": null,
   "id": "2717e020",
   "metadata": {},
   "outputs": [],
   "source": []
  }
 ],
 "metadata": {
  "kernelspec": {
   "display_name": "Python 3 (ipykernel)",
   "language": "python",
   "name": "python3"
  },
  "language_info": {
   "codemirror_mode": {
    "name": "ipython",
    "version": 3
   },
   "file_extension": ".py",
   "mimetype": "text/x-python",
   "name": "python",
   "nbconvert_exporter": "python",
   "pygments_lexer": "ipython3",
   "version": "3.11.5"
  }
 },
 "nbformat": 4,
 "nbformat_minor": 5
}
