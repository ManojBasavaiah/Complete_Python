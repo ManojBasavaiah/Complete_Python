{
 "cells": [
  {
   "cell_type": "code",
   "execution_count": 2,
   "id": "929740a2",
   "metadata": {
    "scrolled": true
   },
   "outputs": [
    {
     "name": "stdout",
     "output_type": "stream",
     "text": [
      "1) python is the best language for data science and, in this course we are going to learn python.\n"
     ]
    },
    {
     "data": {
      "text/plain": [
       "str"
      ]
     },
     "execution_count": 2,
     "metadata": {},
     "output_type": "execute_result"
    }
   ],
   "source": [
    "# \"python\" is same as 'python' be careful and don't mix 'python\" or \"python'\n",
    "sl_no=1 \n",
    "s=\"python is the best language for data science\"\n",
    "t = 'in this course we are going to learn python.'\n",
    "print(str(sl_no)+\") \"+s + ' and, ' +t)\n",
    "type(s)"
   ]
  },
  {
   "cell_type": "code",
   "execution_count": 3,
   "id": "f360ad93",
   "metadata": {},
   "outputs": [
    {
     "name": "stdout",
     "output_type": "stream",
     "text": [
      "This is first line\n",
      "this is line 2\n",
      "this is line 3 and last\n"
     ]
    }
   ],
   "source": [
    "multiLine='''This is first line\n",
    "this is line 2\n",
    "this is line 3 and last'''\n",
    "print(multiLine)"
   ]
  },
  {
   "cell_type": "code",
   "execution_count": 4,
   "id": "a6413d55",
   "metadata": {},
   "outputs": [
    {
     "name": "stdout",
     "output_type": "stream",
     "text": [
      "The following are options available\n",
      "          -a     :does nothing\n",
      "          -b     :also does nothing\n",
      "\n"
     ]
    }
   ],
   "source": [
    "print(\"\"\"The following are options available\n",
    "          -a     :does nothing\n",
    "          -b     :also does nothing\n",
    "\"\"\")#considers spacing and lines"
   ]
  },
  {
   "cell_type": "code",
   "execution_count": 5,
   "id": "b36bc30d",
   "metadata": {},
   "outputs": [
    {
     "name": "stdout",
     "output_type": "stream",
     "text": [
      ",\n",
      " are \n",
      "How are you, and who are you\n",
      "How are you, and who are you\n",
      "u\n",
      "How are you, and who are you\n",
      "Ha\n"
     ]
    }
   ],
   "source": [
    "a='How are you, and who are you'\n",
    "print(a[11])# even spacing and special characters counted\n",
    "type(a[11])\n",
    "print(a[3:8]) \n",
    "print(a[0::]) \n",
    "print(a[:28])\n",
    "print(a[-1])\n",
    "print(a[:])\n",
    "print(a[::21])"
   ]
  },
  {
   "cell_type": "code",
   "execution_count": 6,
   "id": "f3908c35",
   "metadata": {},
   "outputs": [
    {
     "ename": "TypeError",
     "evalue": "'str' object does not support item assignment",
     "output_type": "error",
     "traceback": [
      "\u001b[1;31m---------------------------------------------------------------------------\u001b[0m",
      "\u001b[1;31mTypeError\u001b[0m                                 Traceback (most recent call last)",
      "Cell \u001b[1;32mIn[6], line 1\u001b[0m\n\u001b[1;32m----> 1\u001b[0m a[\u001b[38;5;241m1\u001b[39m]\u001b[38;5;241m=\u001b[39m\u001b[38;5;124m'\u001b[39m\u001b[38;5;124me\u001b[39m\u001b[38;5;124m'\u001b[39m\n",
      "\u001b[1;31mTypeError\u001b[0m: 'str' object does not support item assignment"
     ]
    }
   ],
   "source": [
    "a[1]='e'\n",
    "# This is not possible as strings are immutable"
   ]
  },
  {
   "cell_type": "code",
   "execution_count": 7,
   "id": "a033770d",
   "metadata": {},
   "outputs": [
    {
     "name": "stdout",
     "output_type": "stream",
     "text": [
      "uoy era ohw dna ,uoy era woH\n",
      "Hwaeyu n h r o\n",
      "28 5\n"
     ]
    }
   ],
   "source": [
    "'''Reverse a string'''\n",
    "print(a[::-1])\n",
    "'''Slicing'''\n",
    "print(a[0:28:2])\n",
    "# print char from 0 - 28 with one char in between\n",
    "'''len() for length of string'''\n",
    "print(len(a), len(a[3:8]))"
   ]
  },
  {
   "cell_type": "code",
   "execution_count": 8,
   "id": "bc34ec77",
   "metadata": {},
   "outputs": [
    {
     "name": "stdout",
     "output_type": "stream",
     "text": [
      "ABD  EFGH HIJK LMNO\n",
      "['abd', 'efgh', 'hijk', 'lmno']\n",
      "abdefghhijklmno\n",
      "abdefgijklmno\n",
      "beimagfojdknlh\n"
     ]
    }
   ],
   "source": [
    "a='       abd  efgh hijk lmno     '\n",
    "b=a.strip().upper()\n",
    "print(b)\n",
    "c=a.split()\n",
    "print(c)\n",
    "d=a.strip().replace(' ','')\n",
    "print(d)\n",
    "e=d.replace(d[6],'')\n",
    "print(e)\n",
    "# remove dulplicates in unordered way\n",
    "dup=''.join(set(d))\n",
    "print(dup)"
   ]
  },
  {
   "cell_type": "code",
   "execution_count": 9,
   "id": "6833917f",
   "metadata": {},
   "outputs": [
    {
     "name": "stdout",
     "output_type": "stream",
     "text": [
      "['a', 'b', 'd', 'e', 'f', 'g', 'h', 'i', 'j', 'k', 'l', 'm', 'n', 'o']\n"
     ]
    },
    {
     "data": {
      "text/plain": [
       "'abdefghijklmno'"
      ]
     },
     "execution_count": 9,
     "metadata": {},
     "output_type": "execute_result"
    }
   ],
   "source": [
    "# remove duplicates in ordered way\n",
    "L=list(d)#convert to list\n",
    "for i in L[:]:\n",
    "    while L.count(i)>1:\n",
    "        L.remove(i)\n",
    "print(L)\n",
    "mod_d=\"\".join(L)\n",
    "mod_d"
   ]
  },
  {
   "cell_type": "code",
   "execution_count": 10,
   "id": "cf9acd87",
   "metadata": {},
   "outputs": [
    {
     "name": "stdout",
     "output_type": "stream",
     "text": [
      "[1, 2, 3, 4, 5, 'hello']\n",
      "Help on class OrderedDict in module collections:\n",
      "\n",
      "class OrderedDict(builtins.dict)\n",
      " |  Dictionary that remembers insertion order\n",
      " |  \n",
      " |  Method resolution order:\n",
      " |      OrderedDict\n",
      " |      builtins.dict\n",
      " |      builtins.object\n",
      " |  \n",
      " |  Methods defined here:\n",
      " |  \n",
      " |  __delitem__(self, key, /)\n",
      " |      Delete self[key].\n",
      " |  \n",
      " |  __eq__(self, value, /)\n",
      " |      Return self==value.\n",
      " |  \n",
      " |  __ge__(self, value, /)\n",
      " |      Return self>=value.\n",
      " |  \n",
      " |  __gt__(self, value, /)\n",
      " |      Return self>value.\n",
      " |  \n",
      " |  __init__(self, /, *args, **kwargs)\n",
      " |      Initialize self.  See help(type(self)) for accurate signature.\n",
      " |  \n",
      " |  __ior__(self, value, /)\n",
      " |      Return self|=value.\n",
      " |  \n",
      " |  __iter__(self, /)\n",
      " |      Implement iter(self).\n",
      " |  \n",
      " |  __le__(self, value, /)\n",
      " |      Return self<=value.\n",
      " |  \n",
      " |  __lt__(self, value, /)\n",
      " |      Return self<value.\n",
      " |  \n",
      " |  __ne__(self, value, /)\n",
      " |      Return self!=value.\n",
      " |  \n",
      " |  __or__(self, value, /)\n",
      " |      Return self|value.\n",
      " |  \n",
      " |  __reduce__(...)\n",
      " |      Return state information for pickling\n",
      " |  \n",
      " |  __repr__(self, /)\n",
      " |      Return repr(self).\n",
      " |  \n",
      " |  __reversed__(...)\n",
      " |      od.__reversed__() <==> reversed(od)\n",
      " |  \n",
      " |  __ror__(self, value, /)\n",
      " |      Return value|self.\n",
      " |  \n",
      " |  __setitem__(self, key, value, /)\n",
      " |      Set self[key] to value.\n",
      " |  \n",
      " |  __sizeof__(...)\n",
      " |      D.__sizeof__() -> size of D in memory, in bytes\n",
      " |  \n",
      " |  clear(...)\n",
      " |      od.clear() -> None.  Remove all items from od.\n",
      " |  \n",
      " |  copy(...)\n",
      " |      od.copy() -> a shallow copy of od\n",
      " |  \n",
      " |  items(...)\n",
      " |      D.items() -> a set-like object providing a view on D's items\n",
      " |  \n",
      " |  keys(...)\n",
      " |      D.keys() -> a set-like object providing a view on D's keys\n",
      " |  \n",
      " |  move_to_end(self, /, key, last=True)\n",
      " |      Move an existing element to the end (or beginning if last is false).\n",
      " |      \n",
      " |      Raise KeyError if the element does not exist.\n",
      " |  \n",
      " |  pop(...)\n",
      " |      od.pop(key[,default]) -> v, remove specified key and return the corresponding value.\n",
      " |      \n",
      " |      If the key is not found, return the default if given; otherwise,\n",
      " |      raise a KeyError.\n",
      " |  \n",
      " |  popitem(self, /, last=True)\n",
      " |      Remove and return a (key, value) pair from the dictionary.\n",
      " |      \n",
      " |      Pairs are returned in LIFO order if last is true or FIFO order if false.\n",
      " |  \n",
      " |  setdefault(self, /, key, default=None)\n",
      " |      Insert key with a value of default if key is not in the dictionary.\n",
      " |      \n",
      " |      Return the value for key if key is in the dictionary, else default.\n",
      " |  \n",
      " |  update(...)\n",
      " |      D.update([E, ]**F) -> None.  Update D from dict/iterable E and F.\n",
      " |      If E is present and has a .keys() method, then does:  for k in E: D[k] = E[k]\n",
      " |      If E is present and lacks a .keys() method, then does:  for k, v in E: D[k] = v\n",
      " |      In either case, this is followed by: for k in F:  D[k] = F[k]\n",
      " |  \n",
      " |  values(...)\n",
      " |      D.values() -> an object providing a view on D's values\n",
      " |  \n",
      " |  ----------------------------------------------------------------------\n",
      " |  Class methods defined here:\n",
      " |  \n",
      " |  fromkeys(iterable, value=None) from builtins.type\n",
      " |      Create a new ordered dictionary with keys from iterable and values set to value.\n",
      " |  \n",
      " |  ----------------------------------------------------------------------\n",
      " |  Data descriptors defined here:\n",
      " |  \n",
      " |  __dict__\n",
      " |  \n",
      " |  ----------------------------------------------------------------------\n",
      " |  Data and other attributes defined here:\n",
      " |  \n",
      " |  __hash__ = None\n",
      " |  \n",
      " |  ----------------------------------------------------------------------\n",
      " |  Methods inherited from builtins.dict:\n",
      " |  \n",
      " |  __contains__(self, key, /)\n",
      " |      True if the dictionary has the specified key, else False.\n",
      " |  \n",
      " |  __getattribute__(self, name, /)\n",
      " |      Return getattr(self, name).\n",
      " |  \n",
      " |  __getitem__(...)\n",
      " |      x.__getitem__(y) <==> x[y]\n",
      " |  \n",
      " |  __len__(self, /)\n",
      " |      Return len(self).\n",
      " |  \n",
      " |  get(self, key, default=None, /)\n",
      " |      Return the value for key if key is in the dictionary, else default.\n",
      " |  \n",
      " |  ----------------------------------------------------------------------\n",
      " |  Class methods inherited from builtins.dict:\n",
      " |  \n",
      " |  __class_getitem__(...) from builtins.type\n",
      " |      See PEP 585\n",
      " |  \n",
      " |  ----------------------------------------------------------------------\n",
      " |  Static methods inherited from builtins.dict:\n",
      " |  \n",
      " |  __new__(*args, **kwargs) from builtins.type\n",
      " |      Create and return a new object.  See help(type) for accurate signature.\n",
      "\n"
     ]
    }
   ],
   "source": [
    "# other way using dict\n",
    "from collections import OrderedDict\n",
    "\n",
    "original_list = [1, 2, 2, 3, 4, 4, 5,'hello','hello']\n",
    "unique_list = list(OrderedDict.fromkeys(original_list))\n",
    "\n",
    "print(unique_list)\n",
    "help(OrderedDict)"
   ]
  },
  {
   "cell_type": "code",
   "execution_count": 11,
   "id": "1d09da3b",
   "metadata": {},
   "outputs": [
    {
     "name": "stdout",
     "output_type": "stream",
     "text": [
      "['abcd', 'efgh', 'hijk', 'lmno']\n"
     ]
    },
    {
     "data": {
      "text/plain": [
       "2"
      ]
     },
     "execution_count": 11,
     "metadata": {},
     "output_type": "execute_result"
    }
   ],
   "source": [
    "bl='abcd;efgh;hijk;lmno;'\n",
    "print(bl.split(\";\")[:-1])\n",
    "bl.count('h')\n",
    "# here last ; is not considered"
   ]
  },
  {
   "cell_type": "code",
   "execution_count": 12,
   "id": "84ee8a9c",
   "metadata": {},
   "outputs": [
    {
     "data": {
      "text/plain": [
       "'Abdul kalam'"
      ]
     },
     "execution_count": 12,
     "metadata": {},
     "output_type": "execute_result"
    }
   ],
   "source": [
    "\"abdul kalam\".capitalize()# only first letter becomes capital"
   ]
  },
  {
   "cell_type": "code",
   "execution_count": 13,
   "id": "d3b096c0",
   "metadata": {},
   "outputs": [
    {
     "name": "stdout",
     "output_type": "stream",
     "text": [
      "Help on built-in function count:\n",
      "\n",
      "count(...) method of builtins.str instance\n",
      "    S.count(sub[, start[, end]]) -> int\n",
      "    \n",
      "    Return the number of non-overlapping occurrences of substring sub in\n",
      "    string S[start:end].  Optional arguments start and end are\n",
      "    interpreted as in slice notation.\n",
      "\n"
     ]
    }
   ],
   "source": [
    "help(a.count)"
   ]
  },
  {
   "cell_type": "code",
   "execution_count": 14,
   "id": "0e988358",
   "metadata": {},
   "outputs": [
    {
     "data": {
      "text/plain": [
       "True"
      ]
     },
     "execution_count": 14,
     "metadata": {},
     "output_type": "execute_result"
    }
   ],
   "source": [
    "';' in bl"
   ]
  },
  {
   "cell_type": "code",
   "execution_count": 15,
   "id": "6c329394",
   "metadata": {},
   "outputs": [
    {
     "data": {
      "text/plain": [
       "False"
      ]
     },
     "execution_count": 15,
     "metadata": {},
     "output_type": "execute_result"
    }
   ],
   "source": [
    "\"abc\"==\"abd\""
   ]
  },
  {
   "cell_type": "code",
   "execution_count": 16,
   "id": "2ca207e4",
   "metadata": {},
   "outputs": [
    {
     "data": {
      "text/plain": [
       "True"
      ]
     },
     "execution_count": 16,
     "metadata": {},
     "output_type": "execute_result"
    }
   ],
   "source": [
    "\"abcds\"<\"kisf\""
   ]
  },
  {
   "cell_type": "code",
   "execution_count": 17,
   "id": "a0408c44",
   "metadata": {},
   "outputs": [
    {
     "data": {
      "text/plain": [
       "False"
      ]
     },
     "execution_count": 17,
     "metadata": {},
     "output_type": "execute_result"
    }
   ],
   "source": [
    "'||'<'&&'"
   ]
  },
  {
   "cell_type": "code",
   "execution_count": 18,
   "id": "7cc3726f",
   "metadata": {},
   "outputs": [
    {
     "name": "stdout",
     "output_type": "stream",
     "text": [
      "we are learning 'string' here\n",
      "we are learning \"string\" \n",
      "we are using\t string\n",
      " for are programing\n"
     ]
    }
   ],
   "source": [
    "print(\"we are learning 'string' here\")\n",
    "print(\"we are learning \\\"string\\\" \")\n",
    "print(\"we are using\\t string\\n for are programing\")"
   ]
  },
  {
   "cell_type": "code",
   "execution_count": 19,
   "id": "5cc32b7d",
   "metadata": {},
   "outputs": [
    {
     "name": "stdout",
     "output_type": "stream",
     "text": [
      "c:\\drivr\n",
      "ame\n",
      "c:\\drive\\name\n"
     ]
    }
   ],
   "source": [
    "print('c:\\drivr\\name')\n",
    "print(r\"c:\\drive\\name\")"
   ]
  }
 ],
 "metadata": {
  "kernelspec": {
   "display_name": "Python 3 (ipykernel)",
   "language": "python",
   "name": "python3"
  },
  "language_info": {
   "codemirror_mode": {
    "name": "ipython",
    "version": 3
   },
   "file_extension": ".py",
   "mimetype": "text/x-python",
   "name": "python",
   "nbconvert_exporter": "python",
   "pygments_lexer": "ipython3",
   "version": "3.11.5"
  }
 },
 "nbformat": 4,
 "nbformat_minor": 5
}
