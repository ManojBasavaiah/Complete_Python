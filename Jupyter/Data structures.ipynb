{
 "cells": [
  {
   "cell_type": "code",
   "execution_count": 259,
   "id": "b7b0e71f",
   "metadata": {},
   "outputs": [
    {
     "name": "stdout",
     "output_type": "stream",
     "text": [
      "<class 'list'> <class 'tuple'> <class 'set'> <class 'dict'>\n",
      "{1, (2+21j), 'man', 5.4}\n"
     ]
    }
   ],
   "source": [
    "L=[1,5.4,2+21j,'man']\n",
    "T=(1,5.4,2+21j,'man')\n",
    "S={1,5.4,2+21j,'man','man'}\n",
    "D={23:'twothree','B':44, 'J':2+1j}\n",
    "print(type(L),type(T),type(S),type(D))\n",
    "print(S)"
   ]
  },
  {
   "cell_type": "code",
   "execution_count": 260,
   "id": "dbe003ea",
   "metadata": {},
   "outputs": [
    {
     "name": "stdout",
     "output_type": "stream",
     "text": [
      "5.4 (2+21j) True (2+1j)\n"
     ]
    }
   ],
   "source": [
    "print(L[1],T[2],'man' in S, D['J'])\n",
    "# indexing is not done for both set and dict.\n",
    "# values in set can be checked, while in dict it can be checked using key"
   ]
  },
  {
   "cell_type": "code",
   "execution_count": 261,
   "id": "b15f5415",
   "metadata": {},
   "outputs": [
    {
     "data": {
      "text/plain": [
       "[5.4, (2+21j)]"
      ]
     },
     "execution_count": 261,
     "metadata": {},
     "output_type": "execute_result"
    }
   ],
   "source": [
    "L[1:3]"
   ]
  },
  {
   "cell_type": "code",
   "execution_count": 262,
   "id": "a0e07141",
   "metadata": {},
   "outputs": [
    {
     "data": {
      "text/plain": [
       "['man', (2+21j), 5.4, 1]"
      ]
     },
     "execution_count": 262,
     "metadata": {},
     "output_type": "execute_result"
    }
   ],
   "source": [
    "L[::-1]"
   ]
  },
  {
   "cell_type": "code",
   "execution_count": 263,
   "id": "5b7e666d",
   "metadata": {},
   "outputs": [
    {
     "data": {
      "text/plain": [
       "('man', (2+21j), 5.4, 1)"
      ]
     },
     "execution_count": 263,
     "metadata": {},
     "output_type": "execute_result"
    }
   ],
   "source": [
    "T[::-1]"
   ]
  },
  {
   "cell_type": "code",
   "execution_count": 264,
   "id": "3cf4a337",
   "metadata": {},
   "outputs": [
    {
     "data": {
      "text/plain": [
       "(1, 5.4, (2+21j), 'man', 1, 3.5, 67)"
      ]
     },
     "execution_count": 264,
     "metadata": {},
     "output_type": "execute_result"
    }
   ],
   "source": [
    "T1=(1, 3.5, 67)\n",
    "T2=T+T1\n",
    "T2#tuple are immutable but can be added to other tuple"
   ]
  },
  {
   "cell_type": "code",
   "execution_count": 265,
   "id": "86f10965",
   "metadata": {},
   "outputs": [
    {
     "data": {
      "text/plain": [
       "(1, 5.4, (2+21j), 'man', 1, 3.5, 67)"
      ]
     },
     "execution_count": 265,
     "metadata": {},
     "output_type": "execute_result"
    }
   ],
   "source": [
    "t=()\n",
    "t=T2 #copying tuple to empty tupple \n",
    "t"
   ]
  },
  {
   "cell_type": "code",
   "execution_count": 266,
   "id": "95972c03",
   "metadata": {},
   "outputs": [],
   "source": [
    "del t"
   ]
  },
  {
   "cell_type": "code",
   "execution_count": 267,
   "id": "331a0bf4",
   "metadata": {},
   "outputs": [
    {
     "data": {
      "text/plain": [
       "[1, 5.4, (2+21j), 'man']"
      ]
     },
     "execution_count": 267,
     "metadata": {},
     "output_type": "execute_result"
    }
   ],
   "source": [
    "L2=L.copy()\n",
    "L2"
   ]
  },
  {
   "cell_type": "code",
   "execution_count": 268,
   "id": "67d8dbd1",
   "metadata": {},
   "outputs": [
    {
     "data": {
      "text/plain": [
       "({(2+21j), 1, 5.4, 'man'}, {23: 'twothree', 'B': 44, 'J': (2+1j)})"
      ]
     },
     "execution_count": 268,
     "metadata": {},
     "output_type": "execute_result"
    }
   ],
   "source": [
    "S1=S.copy()\n",
    "D1=D.copy()\n",
    "S1, D1"
   ]
  },
  {
   "cell_type": "code",
   "execution_count": 269,
   "id": "22abee42",
   "metadata": {},
   "outputs": [
    {
     "name": "stdout",
     "output_type": "stream",
     "text": [
      "{'B': 44, 'J': (2+1j), 'name': 'man'}\n"
     ]
    },
    {
     "data": {
      "text/plain": [
       "{(2+21j), -98, 1, 456, 5.4, 'man', 'opps', 'x*y'}"
      ]
     },
     "execution_count": 269,
     "metadata": {},
     "output_type": "execute_result"
    }
   ],
   "source": [
    "D1['name']='man'\n",
    "del D1[23]\n",
    "S1.add(456)\n",
    "S1.update({-98,('x*y'),'opps'})\n",
    "print(D1)\n",
    "S1"
   ]
  },
  {
   "cell_type": "code",
   "execution_count": 270,
   "id": "4bfcfd5d",
   "metadata": {},
   "outputs": [
    {
     "data": {
      "text/plain": [
       "{(2+21j), -98, 1, 456, 5.4, 'opps', 'x*y'}"
      ]
     },
     "execution_count": 270,
     "metadata": {},
     "output_type": "execute_result"
    }
   ],
   "source": [
    "S1.remove('man')\n",
    "S1"
   ]
  },
  {
   "cell_type": "code",
   "execution_count": 271,
   "id": "26db46ee",
   "metadata": {},
   "outputs": [
    {
     "data": {
      "text/plain": [
       "{'B': 44, 'J': (2+1j), 'name': 'man', 'place': 'Bengaluru', 'Animal': 'Arjuna'}"
      ]
     },
     "execution_count": 271,
     "metadata": {},
     "output_type": "execute_result"
    }
   ],
   "source": [
    "D2={'place':'Bengaluru','Animal':'Arjuna'}\n",
    "D1.update(D2)\n",
    "D1"
   ]
  },
  {
   "cell_type": "code",
   "execution_count": 272,
   "id": "e3b69480",
   "metadata": {},
   "outputs": [
    {
     "data": {
      "text/plain": [
       "[1, 5.4, (2+21j), 'man']"
      ]
     },
     "execution_count": 272,
     "metadata": {},
     "output_type": "execute_result"
    }
   ],
   "source": [
    "L2"
   ]
  },
  {
   "cell_type": "code",
   "execution_count": 273,
   "id": "316fb0b4",
   "metadata": {},
   "outputs": [
    {
     "data": {
      "text/plain": [
       "[1, 5.4, (2+21j), 'man', 50]"
      ]
     },
     "execution_count": 273,
     "metadata": {},
     "output_type": "execute_result"
    }
   ],
   "source": [
    "L2.append(50)\n",
    "L2# here this was run 4 times"
   ]
  },
  {
   "cell_type": "code",
   "execution_count": 274,
   "id": "899e481a",
   "metadata": {},
   "outputs": [
    {
     "data": {
      "text/plain": [
       "[1, 5.4, (2+21j), 'man', 50, 4, 6]"
      ]
     },
     "execution_count": 274,
     "metadata": {},
     "output_type": "execute_result"
    }
   ],
   "source": [
    "L2.extend([4,6])\n",
    "L2#2 times run"
   ]
  },
  {
   "cell_type": "code",
   "execution_count": 275,
   "id": "45eb0c62",
   "metadata": {},
   "outputs": [
    {
     "data": {
      "text/plain": [
       "[1, 5.4, (2+21j), 'man', 50, 4]"
      ]
     },
     "execution_count": 275,
     "metadata": {},
     "output_type": "execute_result"
    }
   ],
   "source": [
    "L2.pop()\n",
    "L2#last value deleted"
   ]
  },
  {
   "cell_type": "code",
   "execution_count": 276,
   "id": "7d7f512a",
   "metadata": {},
   "outputs": [
    {
     "data": {
      "text/plain": [
       "[1, 5.4, (2+21j), 'man', 4]"
      ]
     },
     "execution_count": 276,
     "metadata": {},
     "output_type": "execute_result"
    }
   ],
   "source": [
    "L2.remove(L2[4])\n",
    "L2"
   ]
  },
  {
   "cell_type": "code",
   "execution_count": 277,
   "id": "567670ee",
   "metadata": {},
   "outputs": [
    {
     "name": "stdout",
     "output_type": "stream",
     "text": [
      "[1, 5.4, (2+21j), 'man', 4]\n"
     ]
    }
   ],
   "source": [
    "for i in L2:\n",
    "    if L2.count(i)>1:\n",
    "        L2.remove(i)\n",
    "print(L2)"
   ]
  },
  {
   "cell_type": "code",
   "execution_count": 278,
   "id": "7f29e973",
   "metadata": {},
   "outputs": [
    {
     "data": {
      "text/plain": [
       "[1, 5.4, (2+21j), 'manfy', 'man', 4]"
      ]
     },
     "execution_count": 278,
     "metadata": {},
     "output_type": "execute_result"
    }
   ],
   "source": [
    "L2.insert(3, 'manfy')\n",
    "L2"
   ]
  },
  {
   "cell_type": "code",
   "execution_count": 279,
   "id": "e9430bbc",
   "metadata": {},
   "outputs": [
    {
     "data": {
      "text/plain": [
       "dict_items([('place', 'Bengaluru'), ('Animal', 'Arjuna')])"
      ]
     },
     "execution_count": 279,
     "metadata": {},
     "output_type": "execute_result"
    }
   ],
   "source": [
    "D2.items()"
   ]
  },
  {
   "cell_type": "code",
   "execution_count": 280,
   "id": "c3d5bbd6",
   "metadata": {},
   "outputs": [
    {
     "data": {
      "text/plain": [
       "{'A': [2, 4, 6, 6],\n",
       " 'B': {56, 87, 87.399, 'jay'},\n",
       " 'C': (1, 2, 3, 4, 5),\n",
       " 'D': {'place': 'Bengaluru', 'Animal': 'Arjuna'}}"
      ]
     },
     "execution_count": 280,
     "metadata": {},
     "output_type": "execute_result"
    }
   ],
   "source": [
    "# using list, tuple and sets in dictionary\n",
    "T=(1,2,3,4,5)\n",
    "L=[2,4,6,6]\n",
    "S={56,87.399,87,'jay'}\n",
    "D3={'A':L,'B':S,'C':T,'D':D2}\n",
    "D3"
   ]
  },
  {
   "cell_type": "code",
   "execution_count": 281,
   "id": "439f36bb",
   "metadata": {},
   "outputs": [
    {
     "data": {
      "text/plain": [
       "[2, 4, 6, 6]"
      ]
     },
     "execution_count": 281,
     "metadata": {},
     "output_type": "execute_result"
    }
   ],
   "source": [
    "D3['A']"
   ]
  },
  {
   "cell_type": "code",
   "execution_count": 282,
   "id": "4900e5a3",
   "metadata": {},
   "outputs": [
    {
     "name": "stdout",
     "output_type": "stream",
     "text": [
      "4\n"
     ]
    },
    {
     "ename": "TypeError",
     "evalue": "'set' object is not subscriptable",
     "output_type": "error",
     "traceback": [
      "\u001b[1;31m---------------------------------------------------------------------------\u001b[0m",
      "\u001b[1;31mTypeError\u001b[0m                                 Traceback (most recent call last)",
      "Cell \u001b[1;32mIn[282], line 2\u001b[0m\n\u001b[0;32m      1\u001b[0m \u001b[38;5;28mprint\u001b[39m(D3[\u001b[38;5;124m'\u001b[39m\u001b[38;5;124mC\u001b[39m\u001b[38;5;124m'\u001b[39m][\u001b[38;5;241m3\u001b[39m])\n\u001b[1;32m----> 2\u001b[0m D3[\u001b[38;5;124m'\u001b[39m\u001b[38;5;124mB\u001b[39m\u001b[38;5;124m'\u001b[39m][\u001b[38;5;241m1\u001b[39m]\n",
      "\u001b[1;31mTypeError\u001b[0m: 'set' object is not subscriptable"
     ]
    }
   ],
   "source": [
    "print(D3['C'][3])\n",
    "D3['B'][1]"
   ]
  },
  {
   "cell_type": "code",
   "execution_count": 283,
   "id": "2f5f740f",
   "metadata": {},
   "outputs": [
    {
     "data": {
      "text/plain": [
       "'Bengaluru'"
      ]
     },
     "execution_count": 283,
     "metadata": {},
     "output_type": "execute_result"
    }
   ],
   "source": [
    "D3['D']['place']"
   ]
  },
  {
   "cell_type": "code",
   "execution_count": 284,
   "id": "f76a2ef4",
   "metadata": {},
   "outputs": [
    {
     "data": {
      "text/plain": [
       "{'place': 'Bengaluru', 'Animal': 'Arjuna'}"
      ]
     },
     "execution_count": 284,
     "metadata": {},
     "output_type": "execute_result"
    }
   ],
   "source": [
    "K=D3['D']\n",
    "K"
   ]
  },
  {
   "cell_type": "code",
   "execution_count": 285,
   "id": "a0e1f72d",
   "metadata": {},
   "outputs": [
    {
     "name": "stdout",
     "output_type": "stream",
     "text": [
      "place:Bengaluru\n",
      "Animal:Arjuna\n"
     ]
    }
   ],
   "source": [
    "for x in K:\n",
    "    print(x +':'+ K[x])"
   ]
  },
  {
   "cell_type": "code",
   "execution_count": 286,
   "id": "7554304e",
   "metadata": {},
   "outputs": [
    {
     "data": {
      "text/plain": [
       "[[1, 5.4, (2+21j), 'manfy', 'man', 4],\n",
       " (1, 2, 3, 4, 5),\n",
       " {56, 87, 87.399, 'jay'},\n",
       " {'place': 'Bengaluru', 'Animal': 'Arjuna'},\n",
       " 'game']"
      ]
     },
     "execution_count": 286,
     "metadata": {},
     "output_type": "execute_result"
    }
   ],
   "source": [
    "#similarly include all data structures in list\n",
    "L2=[L2,T,S,D2,'game']\n",
    "L2"
   ]
  },
  {
   "cell_type": "code",
   "execution_count": 287,
   "id": "2bcade41",
   "metadata": {},
   "outputs": [
    {
     "data": {
      "text/plain": [
       "set"
      ]
     },
     "execution_count": 287,
     "metadata": {},
     "output_type": "execute_result"
    }
   ],
   "source": [
    "type(L2[2])"
   ]
  },
  {
   "cell_type": "code",
   "execution_count": 288,
   "id": "8b887baf",
   "metadata": {},
   "outputs": [
    {
     "data": {
      "text/plain": [
       "[0, 1, 4, 9, 16, 25, 36, 49, 64, 81]"
      ]
     },
     "execution_count": 288,
     "metadata": {},
     "output_type": "execute_result"
    }
   ],
   "source": [
    "L3=[x**2 for x in range(10)]\n",
    "L3"
   ]
  },
  {
   "cell_type": "code",
   "execution_count": 289,
   "id": "120e54e3",
   "metadata": {},
   "outputs": [
    {
     "data": {
      "text/plain": [
       "{1, 8, 27, 64, 125, 216, 343, 512, 729, 1000}"
      ]
     },
     "execution_count": 289,
     "metadata": {},
     "output_type": "execute_result"
    }
   ],
   "source": [
    "S={pow(x,3) for x in range(1,11)}\n",
    "S"
   ]
  },
  {
   "cell_type": "code",
   "execution_count": 290,
   "id": "465ea54b",
   "metadata": {},
   "outputs": [],
   "source": [
    "# imp problem\n",
    "\"\"\"Let say you are a teacher and you have different student\n",
    "records containing id of a student and the marks list in each subject\n",
    "where different students have taken different number of subjects. All\n",
    "these records are in hard copy. You want to enter all the data in computer\n",
    "and want to compute the average marks of each student and display\"\"\"\n",
    "\n",
    "def getDataFromUser():\n",
    "    D={}\n",
    "    while True:\n",
    "        studentId=input('Enter student ID: ')\n",
    "        marksList=input('Enter the marks by comma seperated values: ')\n",
    "        moreStudents=input('Enter \"no\" to quit inseration or \"yes\" to add more')\n",
    "        if studentId in D:\n",
    "            print(studentId, \"is already inserted\")\n",
    "        else:\n",
    "            D[studentId]=marksList.split(',')\n",
    "        if moreStudents.lower()==\"no\":\n",
    "            return D"
   ]
  },
  {
   "cell_type": "code",
   "execution_count": 291,
   "id": "089d0ab5",
   "metadata": {},
   "outputs": [
    {
     "name": "stdout",
     "output_type": "stream",
     "text": [
      "Enter student ID: 24MC001\n",
      "Enter the marks by comma seperated values: 65,87,89.99,100\n",
      "Enter \"no\" to quit inseration or \"yes\" to add moreyes\n",
      "Enter student ID: 24MC002\n",
      "Enter the marks by comma seperated values: 65,87,77,20\n",
      "Enter \"no\" to quit inseration or \"yes\" to add moreyef\n",
      "Enter student ID: 24MC003\n",
      "Enter the marks by comma seperated values: 67,87,98,67.5\n",
      "Enter \"no\" to quit inseration or \"yes\" to add moreno\n"
     ]
    }
   ],
   "source": [
    "studentData=getDataFromUser()"
   ]
  },
  {
   "cell_type": "code",
   "execution_count": 292,
   "id": "0417549f",
   "metadata": {},
   "outputs": [
    {
     "data": {
      "text/plain": [
       "{'24MC001': ['65', '87', '89.99', '100'],\n",
       " '24MC002': ['65', '87', '77', '20'],\n",
       " '24MC003': ['67', '87', '98', '67.5']}"
      ]
     },
     "execution_count": 292,
     "metadata": {},
     "output_type": "execute_result"
    }
   ],
   "source": [
    "studentData"
   ]
  },
  {
   "cell_type": "code",
   "execution_count": 293,
   "id": "377390f4",
   "metadata": {},
   "outputs": [],
   "source": [
    "def getAvg(D):\n",
    "    avgMarks={}\n",
    "    sum=0\n",
    "    for values in D:\n",
    "        L=D[values]\n",
    "        for marks in L:\n",
    "            sum=sum+float(marks)\n",
    "        avgMarks[values]=sum/len(L)\n",
    "    return avgMarks"
   ]
  },
  {
   "cell_type": "code",
   "execution_count": 294,
   "id": "f0d0f751",
   "metadata": {},
   "outputs": [
    {
     "data": {
      "text/plain": [
       "{'24MC001': 85.4975, '24MC002': 147.7475, '24MC003': 227.6225}"
      ]
     },
     "execution_count": 294,
     "metadata": {},
     "output_type": "execute_result"
    }
   ],
   "source": [
    "avgM= getAvg(studentData)\n",
    "avgM"
   ]
  },
  {
   "cell_type": "code",
   "execution_count": 295,
   "id": "40c562bd",
   "metadata": {},
   "outputs": [
    {
     "name": "stdout",
     "output_type": "stream",
     "text": [
      "student:  24MC001 got avg marks as:  85.4975\n",
      "student:  24MC002 got avg marks as:  147.7475\n",
      "student:  24MC003 got avg marks as:  227.6225\n"
     ]
    }
   ],
   "source": [
    "for x in avgM:\n",
    "    print(\"student: \", x, \"got avg marks as: \", avgM[x])"
   ]
  },
  {
   "cell_type": "code",
   "execution_count": null,
   "id": "01c55601",
   "metadata": {},
   "outputs": [],
   "source": []
  }
 ],
 "metadata": {
  "kernelspec": {
   "display_name": "Python 3 (ipykernel)",
   "language": "python",
   "name": "python3"
  },
  "language_info": {
   "codemirror_mode": {
    "name": "ipython",
    "version": 3
   },
   "file_extension": ".py",
   "mimetype": "text/x-python",
   "name": "python",
   "nbconvert_exporter": "python",
   "pygments_lexer": "ipython3",
   "version": "3.11.5"
  }
 },
 "nbformat": 4,
 "nbformat_minor": 5
}
